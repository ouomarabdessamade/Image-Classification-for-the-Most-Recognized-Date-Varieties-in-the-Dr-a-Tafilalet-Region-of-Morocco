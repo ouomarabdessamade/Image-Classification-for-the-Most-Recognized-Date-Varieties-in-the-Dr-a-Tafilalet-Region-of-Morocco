{
  "cells": [
    {
      "cell_type": "markdown",
      "metadata": {
        "id": "ZXEScjhKvR27"
      },
      "source": [
        "# PreProcessing\n"
      ]
    },
    {
      "cell_type": "markdown",
      "metadata": {
        "id": "J1uzgVILwIrf"
      },
      "source": [
        "**The following packages will be used to implement a basic GAN system in Python/Keras. Importing libraries and layers from tensorflow.**"
      ]
    },
    {
      "cell_type": "code",
      "execution_count": 2,
      "metadata": {
        "id": "qf58yyr7vekn"
      },
      "outputs": [],
      "source": [
        "import tensorflow as tf\n",
        "from tensorflow.keras.layers import Input, Reshape, Dropout, Dense \n",
        "from tensorflow.keras.layers import Flatten, BatchNormalization\n",
        "from tensorflow.keras.layers import Activation, ZeroPadding2D\n",
        "from tensorflow.keras.layers import LeakyReLU\n",
        "from tensorflow.keras.layers import UpSampling2D, Conv2D\n",
        "from tensorflow.keras.models import Sequential, Model, load_model\n",
        "from tensorflow.keras.optimizers import Adam\n",
        "from tensorflow import keras\n",
        "import numpy as np\n",
        "from PIL import Image\n",
        "from tqdm import tqdm\n",
        "import os \n",
        "import time\n",
        "import matplotlib.pyplot as plt\n",
        "from keras.models import load_model"
      ]
    },
    {
      "cell_type": "markdown",
      "metadata": {
        "id": "rPEnlYN5mn71"
      },
      "source": [
        "**The following code mounts Google drive for use with Google CoLab**\n"
      ]
    },
    {
      "cell_type": "code",
      "execution_count": 3,
      "metadata": {
        "colab": {
          "base_uri": "https://localhost:8080/"
        },
        "id": "Pt1-UNvgyhtk",
        "outputId": "d8504c5d-64c7-4240-a1a5-adecadb9e71d"
      },
      "outputs": [
        {
          "output_type": "stream",
          "name": "stdout",
          "text": [
            "Mounted at /content/gdrive\n"
          ]
        }
      ],
      "source": [
        "from google.colab import drive\n",
        "drive.mount('/content/gdrive')"
      ]
    },
    {
      "cell_type": "code",
      "execution_count": 4,
      "metadata": {
        "id": "rwKw8Aebzfz8"
      },
      "outputs": [],
      "source": [
        "img_width = 96\n",
        "img_height = 96\n",
        "batch_size = 64\n",
        "color = 3\n",
        "dataset_folder = \"date-fruit-image-dataset-in-controlled-environment\"\n",
        "dataset_url = 'https://www.kaggle.com/wadhasnalhamdan/date-fruit-image-dataset-in-controlled-environment'\n",
        "classes_name = ['Ajwa', 'Medjool', 'Nabtat Ali', 'Rutab', 'Sokari']"
      ]
    },
    {
      "cell_type": "code",
      "execution_count": null,
      "metadata": {
        "colab": {
          "base_uri": "https://localhost:8080/"
        },
        "id": "2cLwfCyOzZgF",
        "outputId": "f3a11d20-26f9-49a8-80e2-3d7812492c5f"
      },
      "outputs": [
        {
          "name": "stdout",
          "output_type": "stream",
          "text": [
            "Looking in indexes: https://pypi.org/simple, https://us-python.pkg.dev/colab-wheels/public/simple/\n",
            "Collecting opendatasets\n",
            "  Downloading opendatasets-0.1.22-py3-none-any.whl (15 kB)\n",
            "Requirement already satisfied: kaggle in /usr/local/lib/python3.8/dist-packages (from opendatasets) (1.5.12)\n",
            "Requirement already satisfied: click in /usr/local/lib/python3.8/dist-packages (from opendatasets) (7.1.2)\n",
            "Requirement already satisfied: tqdm in /usr/local/lib/python3.8/dist-packages (from opendatasets) (4.64.1)\n",
            "Requirement already satisfied: python-slugify in /usr/local/lib/python3.8/dist-packages (from kaggle->opendatasets) (7.0.0)\n",
            "Requirement already satisfied: urllib3 in /usr/local/lib/python3.8/dist-packages (from kaggle->opendatasets) (1.24.3)\n",
            "Requirement already satisfied: requests in /usr/local/lib/python3.8/dist-packages (from kaggle->opendatasets) (2.25.1)\n",
            "Requirement already satisfied: certifi in /usr/local/lib/python3.8/dist-packages (from kaggle->opendatasets) (2022.12.7)\n",
            "Requirement already satisfied: python-dateutil in /usr/local/lib/python3.8/dist-packages (from kaggle->opendatasets) (2.8.2)\n",
            "Requirement already satisfied: six>=1.10 in /usr/local/lib/python3.8/dist-packages (from kaggle->opendatasets) (1.15.0)\n",
            "Requirement already satisfied: text-unidecode>=1.3 in /usr/local/lib/python3.8/dist-packages (from python-slugify->kaggle->opendatasets) (1.3)\n",
            "Requirement already satisfied: chardet<5,>=3.0.2 in /usr/local/lib/python3.8/dist-packages (from requests->kaggle->opendatasets) (4.0.0)\n",
            "Requirement already satisfied: idna<3,>=2.5 in /usr/local/lib/python3.8/dist-packages (from requests->kaggle->opendatasets) (2.10)\n",
            "Installing collected packages: opendatasets\n",
            "Successfully installed opendatasets-0.1.22\n"
          ]
        }
      ],
      "source": [
        "pip install opendatasets"
      ]
    },
    {
      "cell_type": "code",
      "execution_count": null,
      "metadata": {
        "colab": {
          "base_uri": "https://localhost:8080/"
        },
        "id": "8BOxSRN2zp3D",
        "outputId": "d7fe198d-6735-4a12-e59f-24d190486b2c"
      },
      "outputs": [
        {
          "name": "stdout",
          "output_type": "stream",
          "text": [
            "Downloading date-fruit-image-dataset-in-controlled-environment.zip to ./date-fruit-image-dataset-in-controlled-environment\n"
          ]
        },
        {
          "name": "stderr",
          "output_type": "stream",
          "text": [
            "100%|██████████| 3.11G/3.11G [00:29<00:00, 114MB/s]\n"
          ]
        },
        {
          "name": "stdout",
          "output_type": "stream",
          "text": [
            "\n"
          ]
        }
      ],
      "source": [
        "import opendatasets as od\n",
        "od.download(dataset_url)"
      ]
    },
    {
      "cell_type": "markdown",
      "metadata": {
        "id": "AFPMfpc7w5A_"
      },
      "source": [
        "**Setting hyperparameters for computation.Here, we mention parameters for image resolution, preview image size details,seed size,epochs,batch size and buffer size.**\n"
      ]
    },
    {
      "cell_type": "code",
      "execution_count": 5,
      "metadata": {
        "colab": {
          "base_uri": "https://localhost:8080/"
        },
        "id": "2o7c1lwdvxiA",
        "outputId": "62e87299-16de-429c-988e-629293d588d8"
      },
      "outputs": [
        {
          "output_type": "stream",
          "name": "stdout",
          "text": [
            "Will generate 96px square images.\n"
          ]
        }
      ],
      "source": [
        "#resolution of images\n",
        "GENERATE_SQUARE = 96 #96x96\n",
        "IMAGE_CHANNELS = 3  #RGB\n",
        "\n",
        "# Preview images for viewing samples during training\n",
        "PREVIEW_ROWS = 4\n",
        "PREVIEW_COLS = 7\n",
        "PREVIEW_MARGIN = 16\n",
        "\n",
        "# Size vector to generate images from (noise vector)\n",
        "SEED_SIZE = 100\n",
        "\n",
        "# Configuration\n",
        "# DATA_PATH = '/content/date-fruit-image-dataset-in-controlled-environment/Medjool'\n",
        "# DATA_PATH = '/content/date-fruit-image-dataset-in-controlled-environment/Sokari'\n",
        "# DATA_PATH = '/content/date-fruit-image-dataset-in-controlled-environment/Ajwa'\n",
        "# DATA_PATH = '/content/date-fruit-image-dataset-in-controlled-environment/Rutab'\n",
        "DATA_PATH = '/content/gdrive/MyDrive/date-fruit-image-dataset-in-controlled-environment/Rutab' #copy file location of unzipped data\n",
        "EPOCHS = 50001\n",
        "BATCH_SIZE = 32\n",
        "BUFFER_SIZE = 600\n",
        "\n",
        "print(f\"Will generate {GENERATE_SQUARE}px square images.\")"
      ]
    },
    {
      "cell_type": "markdown",
      "metadata": {
        "id": "k91Wf_obvYTi"
      },
      "source": [
        "**We store the processed file as a binary. This way we can simply reload the processed training data and quickly use it. It is most efficient to only perform this operation once. The dimensions of the image are encoded into the filename of the binary file because we need to regenerate it if these change. Converting input images from the dataset to arrays. As the colored images have values of varying from (0,255) pixel values, scaling it to (-1, 1) as of generator's last layer's activation Tanh range.**"
      ]
    },
    {
      "cell_type": "code",
      "execution_count": 6,
      "metadata": {
        "colab": {
          "base_uri": "https://localhost:8080/"
        },
        "id": "PGj4-cXsv2Tm",
        "outputId": "cd55d48c-7b07-4be6-d48d-06494d98d39a"
      },
      "outputs": [
        {
          "output_type": "stream",
          "name": "stdout",
          "text": [
            "Looking for file: /content/gdrive/MyDrive/date-fruit-image-dataset-in-controlled-environment/Rutab/training_data_96_96.npy\n",
            "Loading previous training pickle...\n"
          ]
        }
      ],
      "source": [
        "#converting of (255,255) pixel value to (-1, 1) as of generator's last layer's activation Tanh range\n",
        "\n",
        "training_binary_path = os.path.join(DATA_PATH,\n",
        "        f'training_data_{GENERATE_SQUARE}_{GENERATE_SQUARE}.npy')\n",
        "\n",
        "\n",
        "print(f\"Looking for file: {training_binary_path}\")\n",
        "\n",
        "if not os.path.isfile(training_binary_path):\n",
        "  print(\"Loading training images...\")\n",
        "\n",
        "  training_data = []\n",
        "  faces_path = DATA_PATH\n",
        "  for filename in tqdm(os.listdir(faces_path)):\n",
        "      path = os.path.join(faces_path,filename)\n",
        "      image = Image.open(path).resize((GENERATE_SQUARE,GENERATE_SQUARE),Image.ANTIALIAS)\n",
        "      training_data.append(np.asarray(image))\n",
        "  training_data = np.reshape(training_data,(-1,GENERATE_SQUARE,GENERATE_SQUARE,IMAGE_CHANNELS))\n",
        "  training_data = training_data.astype(np.float32)\n",
        "  training_data = training_data / 127.5 - 1.\n",
        "\n",
        "\n",
        "  print(\"Saving training image binary...\")\n",
        "  np.save(training_binary_path,training_data)\n",
        "else:\n",
        "  print(\"Loading previous training pickle...\")\n",
        "  training_data = np.load(training_binary_path)\n",
        "\n"
      ]
    },
    {
      "cell_type": "markdown",
      "metadata": {
        "id": "qDgenb7MvdlB"
      },
      "source": [
        "**We will use a TensorFlow Dataset object to actually hold the images. This allows the data to be quickly shuffled int divided into the appropriate batch sizes for training.Making batches of dataset for training the model in batches.**"
      ]
    },
    {
      "cell_type": "code",
      "execution_count": 7,
      "metadata": {
        "id": "YlH6DaqWv-7r"
      },
      "outputs": [],
      "source": [
        "#making batches of data\n",
        "train_dataset = tf.data.Dataset.from_tensor_slices(training_data).shuffle(BUFFER_SIZE).batch(BATCH_SIZE)"
      ]
    },
    {
      "cell_type": "markdown",
      "metadata": {
        "id": "b4ZsFJzzwFNz"
      },
      "source": [
        "# GAN"
      ]
    },
    {
      "cell_type": "markdown",
      "metadata": {
        "id": "O0MLB9GI2Vsi"
      },
      "source": [
        "**Making a generator network using Sequential model to add the following layers.**"
      ]
    },
    {
      "cell_type": "code",
      "execution_count": 8,
      "metadata": {
        "id": "aZQLbagtwCPH"
      },
      "outputs": [],
      "source": [
        "#generator network\n",
        "generator = keras.models.Sequential([\n",
        "    keras.layers.Dense(6*6*256, input_shape=[SEED_SIZE]),\n",
        "    keras.layers.Reshape([6, 6, 256]),\n",
        "    keras.layers.Conv2DTranspose(64, (5,5), (2,2), padding=\"same\"),\n",
        "    keras.layers.ReLU(),\n",
        "    keras.layers.BatchNormalization(),\n",
        "    keras.layers.Conv2DTranspose(32, (5,5), (2,2), padding=\"same\"),\n",
        "    keras.layers.ReLU(),\n",
        "    keras.layers.BatchNormalization(),\n",
        "    keras.layers.Conv2DTranspose(32, (5,5), (2,2), padding=\"same\"),\n",
        "    keras.layers.ReLU(),\n",
        "    keras.layers.Conv2DTranspose(3, (5,5), (2,2), padding=\"same\", activation=\"tanh\"),\n",
        "])"
      ]
    },
    {
      "cell_type": "markdown",
      "metadata": {
        "id": "2QURmMl5yP9O"
      },
      "source": [
        "**Input, output dimensions and parameters of every layer of generator**"
      ]
    },
    {
      "cell_type": "code",
      "execution_count": null,
      "metadata": {
        "colab": {
          "base_uri": "https://localhost:8080/"
        },
        "id": "NkC2p9MEXNu4",
        "outputId": "07cb3aa2-b8cd-4b8d-fa00-9a808325e52d"
      },
      "outputs": [
        {
          "name": "stdout",
          "output_type": "stream",
          "text": [
            "Model: \"sequential_2\"\n",
            "_________________________________________________________________\n",
            " Layer (type)                Output Shape              Param #   \n",
            "=================================================================\n",
            " dense_2 (Dense)             (None, 9216)              930816    \n",
            "                                                                 \n",
            " reshape_1 (Reshape)         (None, 6, 6, 256)         0         \n",
            "                                                                 \n",
            " conv2d_transpose_4 (Conv2DT  (None, 12, 12, 64)       409664    \n",
            " ranspose)                                                       \n",
            "                                                                 \n",
            " re_lu_3 (ReLU)              (None, 12, 12, 64)        0         \n",
            "                                                                 \n",
            " batch_normalization_4 (Batc  (None, 12, 12, 64)       256       \n",
            " hNormalization)                                                 \n",
            "                                                                 \n",
            " conv2d_transpose_5 (Conv2DT  (None, 24, 24, 32)       51232     \n",
            " ranspose)                                                       \n",
            "                                                                 \n",
            " re_lu_4 (ReLU)              (None, 24, 24, 32)        0         \n",
            "                                                                 \n",
            " batch_normalization_5 (Batc  (None, 24, 24, 32)       128       \n",
            " hNormalization)                                                 \n",
            "                                                                 \n",
            " conv2d_transpose_6 (Conv2DT  (None, 48, 48, 32)       25632     \n",
            " ranspose)                                                       \n",
            "                                                                 \n",
            " re_lu_5 (ReLU)              (None, 48, 48, 32)        0         \n",
            "                                                                 \n",
            " conv2d_transpose_7 (Conv2DT  (None, 96, 96, 3)        2403      \n",
            " ranspose)                                                       \n",
            "                                                                 \n",
            "=================================================================\n",
            "Total params: 1,420,131\n",
            "Trainable params: 1,419,939\n",
            "Non-trainable params: 192\n",
            "_________________________________________________________________\n"
          ]
        }
      ],
      "source": [
        "generator.summary()"
      ]
    },
    {
      "cell_type": "markdown",
      "metadata": {
        "id": "riyatdem2s1e"
      },
      "source": [
        "**Making a discriminator network using Sequential model to add the following layers.**"
      ]
    },
    {
      "cell_type": "code",
      "execution_count": 9,
      "metadata": {
        "id": "d5WjRovywMva"
      },
      "outputs": [],
      "source": [
        "#discriminator network\n",
        "discriminator = keras.models.Sequential([\n",
        "    keras.layers.Conv2D(32, (5,5), (2,2), padding=\"same\", input_shape=[96, 96, 3]),\n",
        "    keras.layers.LeakyReLU(0.2),\n",
        "    keras.layers.Dropout(0.3),\n",
        "    keras.layers.Conv2D(64, (5,5), (2,2), padding=\"same\"),\n",
        "    keras.layers.LeakyReLU(0.2),\n",
        "    keras.layers.Dropout(0.3),\n",
        "    keras.layers.BatchNormalization(),\n",
        "    keras.layers.Conv2D(64, (5,5), (2,2), padding=\"same\"),\n",
        "    keras.layers.LeakyReLU(0.2),\n",
        "    keras.layers.Dropout(0.3),\n",
        "    keras.layers.BatchNormalization(),\n",
        "    keras.layers.Conv2D(128, (5,5), (2,2), padding=\"same\"),\n",
        "    keras.layers.LeakyReLU(0.2),\n",
        "    keras.layers.Dropout(0.3),\n",
        "    keras.layers.Flatten(),\n",
        "    keras.layers.Dense(1, activation='sigmoid')\n",
        "])"
      ]
    },
    {
      "cell_type": "markdown",
      "metadata": {
        "id": "_1HYltmvynVi"
      },
      "source": [
        "**Input,output dimensions and parameters of every layer of discriminator**"
      ]
    },
    {
      "cell_type": "code",
      "execution_count": null,
      "metadata": {
        "colab": {
          "base_uri": "https://localhost:8080/"
        },
        "id": "HU7kcmANwTTM",
        "outputId": "2f8a45ea-937d-4318-ad67-fcde2fdcb26c"
      },
      "outputs": [
        {
          "name": "stdout",
          "output_type": "stream",
          "text": [
            "Model: \"sequential_3\"\n",
            "_________________________________________________________________\n",
            " Layer (type)                Output Shape              Param #   \n",
            "=================================================================\n",
            " conv2d_4 (Conv2D)           (None, 48, 48, 32)        2432      \n",
            "                                                                 \n",
            " leaky_re_lu_4 (LeakyReLU)   (None, 48, 48, 32)        0         \n",
            "                                                                 \n",
            " dropout_4 (Dropout)         (None, 48, 48, 32)        0         \n",
            "                                                                 \n",
            " conv2d_5 (Conv2D)           (None, 24, 24, 64)        51264     \n",
            "                                                                 \n",
            " leaky_re_lu_5 (LeakyReLU)   (None, 24, 24, 64)        0         \n",
            "                                                                 \n",
            " dropout_5 (Dropout)         (None, 24, 24, 64)        0         \n",
            "                                                                 \n",
            " batch_normalization_6 (Batc  (None, 24, 24, 64)       256       \n",
            " hNormalization)                                                 \n",
            "                                                                 \n",
            " conv2d_6 (Conv2D)           (None, 12, 12, 64)        102464    \n",
            "                                                                 \n",
            " leaky_re_lu_6 (LeakyReLU)   (None, 12, 12, 64)        0         \n",
            "                                                                 \n",
            " dropout_6 (Dropout)         (None, 12, 12, 64)        0         \n",
            "                                                                 \n",
            " batch_normalization_7 (Batc  (None, 12, 12, 64)       256       \n",
            " hNormalization)                                                 \n",
            "                                                                 \n",
            " conv2d_7 (Conv2D)           (None, 6, 6, 128)         204928    \n",
            "                                                                 \n",
            " leaky_re_lu_7 (LeakyReLU)   (None, 6, 6, 128)         0         \n",
            "                                                                 \n",
            " dropout_7 (Dropout)         (None, 6, 6, 128)         0         \n",
            "                                                                 \n",
            " flatten_1 (Flatten)         (None, 4608)              0         \n",
            "                                                                 \n",
            " dense_3 (Dense)             (None, 1)                 4609      \n",
            "                                                                 \n",
            "=================================================================\n",
            "Total params: 366,209\n",
            "Trainable params: 365,953\n",
            "Non-trainable params: 256\n",
            "_________________________________________________________________\n"
          ]
        }
      ],
      "source": [
        "discriminator.summary()"
      ]
    },
    {
      "cell_type": "markdown",
      "metadata": {
        "id": "ozZqo8DcwWVJ"
      },
      "source": [
        "# Saving images"
      ]
    },
    {
      "cell_type": "markdown",
      "metadata": {
        "id": "t5q__tZ_29fH"
      },
      "source": [
        "**OUT_PATH gives the destination to store the images that our deep-convolutional gan network will generate.**"
      ]
    },
    {
      "cell_type": "code",
      "execution_count": 10,
      "metadata": {
        "id": "XUWSNGBBD5Pw"
      },
      "outputs": [],
      "source": [
        "mkdir '/content/final_rutab'"
      ]
    },
    {
      "cell_type": "code",
      "execution_count": 11,
      "metadata": {
        "id": "2qwqT3lD_A2_"
      },
      "outputs": [],
      "source": [
        "OUT_PATH='/content/final_rutab'"
      ]
    },
    {
      "cell_type": "markdown",
      "metadata": {
        "id": "6o23aoA93nkn"
      },
      "source": [
        "**As we progress through training images will be produced to show the progress.These images will contain a number of rendered dates that show how good the generator has become.Below cell has a function to save coloured images generated by dcgan in 7x4 grid to preview the images.** "
      ]
    },
    {
      "cell_type": "code",
      "execution_count": 12,
      "metadata": {
        "id": "hIa-hk2xwYNf"
      },
      "outputs": [],
      "source": [
        "def save_images(cnt,noise):\n",
        "  image_array = np.full(( \n",
        "      PREVIEW_MARGIN + (PREVIEW_ROWS * (GENERATE_SQUARE+PREVIEW_MARGIN)), \n",
        "      PREVIEW_MARGIN + (PREVIEW_COLS * (GENERATE_SQUARE+PREVIEW_MARGIN)), 3), \n",
        "      255, dtype=np.uint8)\n",
        "  \n",
        "  generated_images = generator.predict(noise)\n",
        "\n",
        "  generated_images = 0.5 * generated_images + 0.5\n",
        "\n",
        "  image_count = 0\n",
        "  for row in range(PREVIEW_ROWS):\n",
        "      for col in range(PREVIEW_COLS):\n",
        "        r = row * (GENERATE_SQUARE+16) + PREVIEW_MARGIN\n",
        "        c = col * (GENERATE_SQUARE+16) + PREVIEW_MARGIN\n",
        "        image_array[r:r+GENERATE_SQUARE,c:c+GENERATE_SQUARE] = generated_images[image_count] * 255\n",
        "        image_count += 1\n",
        "\n",
        "          \n",
        "  output_path = os.path.join(OUT_PATH,f\"output-{cnt}\")\n",
        "  if not os.path.exists(output_path):\n",
        "    os.makedirs(output_path)\n",
        "  \n",
        "  filename = os.path.join(output_path,f\"train-{cnt}.png\")\n",
        "  im = Image.fromarray(image_array)\n",
        "  im.save(filename)\n",
        "  generator.save(os.path.join(output_path,f\"face_generator-{cnt}.h5\"))"
      ]
    },
    {
      "cell_type": "markdown",
      "metadata": {
        "id": "U8hVXBrKwaAE"
      },
      "source": [
        "# Testing networks"
      ]
    },
    {
      "cell_type": "markdown",
      "metadata": {
        "id": "zOrLDh2N44B4"
      },
      "source": [
        "**Before training the model, generate random sample by adding noise in generator network and specifying training as false.**"
      ]
    },
    {
      "cell_type": "code",
      "execution_count": 13,
      "metadata": {
        "colab": {
          "base_uri": "https://localhost:8080/",
          "height": 285
        },
        "id": "5K12WtZvwdQ6",
        "outputId": "42935f03-441d-4de2-c1bc-fb28302d4636"
      },
      "outputs": [
        {
          "output_type": "execute_result",
          "data": {
            "text/plain": [
              "<matplotlib.image.AxesImage at 0x7f42c66ca7c0>"
            ]
          },
          "metadata": {},
          "execution_count": 13
        },
        {
          "output_type": "display_data",
          "data": {
            "text/plain": [
              "<Figure size 432x288 with 1 Axes>"
            ],
            "image/png": "[encoded data removed]"
          },
          "metadata": {
            "needs_background": "light"
          }
        }
      ],
      "source": [
        "#generating random sample before training\n",
        "noise = tf.random.normal([1, SEED_SIZE])\n",
        "generated_image = generator(noise, training=False)\n",
        "\n",
        "plt.imshow(generated_image[0, :, :, 0])"
      ]
    },
    {
      "cell_type": "markdown",
      "metadata": {
        "id": "wlM1Qmqg5ONX"
      },
      "source": [
        "**Checking discriminator's decision on the random sample generated.**"
      ]
    },
    {
      "cell_type": "code",
      "execution_count": 14,
      "metadata": {
        "colab": {
          "base_uri": "https://localhost:8080/"
        },
        "id": "ftgn9MTtwfAc",
        "outputId": "9428b860-022c-4af3-c628-5bc1ed6d7fa4"
      },
      "outputs": [
        {
          "output_type": "stream",
          "name": "stdout",
          "text": [
            "tf.Tensor([[0.4998515]], shape=(1, 1), dtype=float32)\n"
          ]
        }
      ],
      "source": [
        "image_shape = (GENERATE_SQUARE,GENERATE_SQUARE,IMAGE_CHANNELS)\n",
        "decision = discriminator(generated_image)\n",
        "print (decision)"
      ]
    },
    {
      "cell_type": "markdown",
      "metadata": {
        "id": "1-fE0lUxwnzr"
      },
      "source": [
        "# Compiling Gan"
      ]
    },
    {
      "cell_type": "markdown",
      "metadata": {
        "id": "O6wCaCTW5oHp"
      },
      "source": [
        "**For the generator training set, the $x$ contains the random seeds to generate images and the $y$ always contains the value of 1, because the optimal is for the generator to have generated such good images that the discriminiator was fooled into assigning them a probability near 1.Defining loss for generator and discriminator networks. Binary crossentropy loss has been used. For the generator network the loss is only determined by the fake output that it generates.For discriminator network,total loss is the sum of loss for real and fake outputs.**"
      ]
    },
    {
      "cell_type": "code",
      "execution_count": 15,
      "metadata": {
        "id": "l9lBubrA-mbt"
      },
      "outputs": [],
      "source": [
        "#defining losses\n",
        "cross_entropy = tf.keras.losses.BinaryCrossentropy(from_logits=True)\n",
        "\n",
        "def discriminator_loss(real_output, fake_output):\n",
        "    real_loss = cross_entropy(tf.ones_like(real_output), real_output)\n",
        "    fake_loss = cross_entropy(tf.zeros_like(fake_output), fake_output)\n",
        "    total_loss = real_loss + fake_loss\n",
        "    return total_loss\n",
        "\n",
        "def generator_loss(fake_output):\n",
        "    return cross_entropy(tf.ones_like(fake_output), fake_output)"
      ]
    },
    {
      "cell_type": "markdown",
      "metadata": {
        "id": "JYWb8pE_6VZE"
      },
      "source": [
        "**In this cell optimizer for the generator and discriminator networks have been defined. Adam optimizer(with a learning rate of 1.5e-4) is used for both the networks.**"
      ]
    },
    {
      "cell_type": "code",
      "execution_count": 16,
      "metadata": {
        "id": "LruvslEq-rtz"
      },
      "outputs": [],
      "source": [
        "#defining otptimizer\n",
        "generator_optimizer = tf.keras.optimizers.Adam(1.5e-4,0.5)\n",
        "discriminator_optimizer = tf.keras.optimizers.Adam(1.5e-4,0.5)"
      ]
    },
    {
      "cell_type": "markdown",
      "metadata": {
        "id": "ENsy6NUg-uBM"
      },
      "source": [
        "# Training the Gan\n"
      ]
    },
    {
      "cell_type": "markdown",
      "metadata": {
        "id": "m6EwKX8Y9T_5"
      },
      "source": [
        "**Defining a fuction for train the dcgan. We train the model by giving randomly generated seed values to the generator. The generator gives an output image, this image along with real image is feeded to the discriminator network. Gradients are calculated for both these network in the basis of generator loss and discriminator loss. Later, optimization is done using these gradients.**"
      ]
    },
    {
      "cell_type": "code",
      "execution_count": 17,
      "metadata": {
        "id": "EZBGWwud-wL0"
      },
      "outputs": [],
      "source": [
        "@tf.function\n",
        "def train_step(images):\n",
        "  seed = tf.random.normal([BATCH_SIZE, SEED_SIZE])\n",
        "\n",
        "  with tf.GradientTape() as gen_tape, tf.GradientTape() as disc_tape:\n",
        "    generated_images = generator(seed, training=True)\n",
        "\n",
        "    real_output = discriminator(images, training=True)\n",
        "    fake_output = discriminator(generated_images, training=True)\n",
        "\n",
        "    gen_loss = generator_loss(fake_output)\n",
        "    disc_loss = discriminator_loss(real_output, fake_output)\n",
        "    \n",
        "\n",
        "    gradients_of_generator = gen_tape.gradient(gen_loss, generator.trainable_variables)#calculating gradients of generator\n",
        "    gradients_of_discriminator = disc_tape.gradient(disc_loss, discriminator.trainable_variables)#calculating gradients of discriminator\n",
        "\n",
        "    generator_optimizer.apply_gradients(zip(gradients_of_generator, generator.trainable_variables))#applying gradients with the optimizer\n",
        "    discriminator_optimizer.apply_gradients(zip(gradients_of_discriminator, discriminator.trainable_variables))#applying gradients with the optimizer\n",
        "  return gen_loss,disc_loss"
      ]
    },
    {
      "cell_type": "code",
      "execution_count": 18,
      "metadata": {
        "id": "oIzn7Gjn-xfx"
      },
      "outputs": [],
      "source": [
        "def train(dataset, epochs):\n",
        "  fixed_seed = np.random.normal(0, 1, (PREVIEW_ROWS * PREVIEW_COLS, SEED_SIZE))\n",
        "\n",
        "  for epoch in tqdm(range(epochs)):\n",
        "\n",
        "\n",
        "    gen_loss_list = []\n",
        "    disc_loss_list = []\n",
        "\n",
        "    for image_batch in dataset:\n",
        "      t = train_step(image_batch)\n",
        "      gen_loss_list.append(t[0])\n",
        "      disc_loss_list.append(t[1])\n",
        "\n",
        "    g_loss = sum(gen_loss_list) / len(gen_loss_list)\n",
        "    d_loss = sum(disc_loss_list) / len(disc_loss_list)\n",
        "\n",
        "\n",
        "    print (f'Epoch {epoch+1}, gen loss={g_loss},disc loss={d_loss}')\n",
        "    if epoch%50000==0:\n",
        "      save_images(epoch,fixed_seed)\n"
      ]
    },
    {
      "cell_type": "markdown",
      "metadata": {
        "id": "C8z7xr0u_3iO"
      },
      "source": [
        "**Calling the train fuction to start train the gan model for desired number of epochs.**"
      ]
    },
    {
      "cell_type": "code",
      "execution_count": 1,
      "metadata": {
        "colab": {
          "base_uri": "https://localhost:8080/",
          "height": 163
        },
        "id": "RxTf-xVv-9-n",
        "outputId": "61c4ad0c-fed9-4f4a-9e6f-6435a01daf97"
      },
      "outputs": [
        {
          "output_type": "error",
          "ename": "NameError",
          "evalue": "ignored",
          "traceback": [
            "\u001b[0;31m---------------------------------------------------------------------------\u001b[0m",
            "\u001b[0;31mNameError\u001b[0m                                 Traceback (most recent call last)",
            "\u001b[0;32m<ipython-input-1-d152560ca122>\u001b[0m in \u001b[0;36m<module>\u001b[0;34m\u001b[0m\n\u001b[0;32m----> 1\u001b[0;31m \u001b[0mtrain\u001b[0m\u001b[0;34m(\u001b[0m\u001b[0mtrain_dataset\u001b[0m\u001b[0;34m,\u001b[0m \u001b[0mEPOCHS\u001b[0m\u001b[0;34m)\u001b[0m\u001b[0;34m\u001b[0m\u001b[0;34m\u001b[0m\u001b[0m\n\u001b[0m",
            "\u001b[0;31mNameError\u001b[0m: name 'train' is not defined"
          ]
        }
      ],
      "source": [
        "train(train_dataset, EPOCHS)"
      ]
    },
    {
      "cell_type": "markdown",
      "metadata": {
        "id": "biO-kawQL1SM"
      },
      "source": [
        "# Generating images"
      ]
    },
    {
      "cell_type": "markdown",
      "metadata": {
        "id": "-23wK378BCI7"
      },
      "source": [
        "**In this section 500 generated images are saved.**\n"
      ]
    },
    {
      "cell_type": "code",
      "execution_count": null,
      "metadata": {
        "id": "T7lWylzxNina"
      },
      "outputs": [],
      "source": [
        "from keras.models import load_model"
      ]
    },
    {
      "cell_type": "markdown",
      "metadata": {
        "id": "pgCSgnWVP3uT"
      },
      "source": [
        "**Load the best model to generate images of dates**"
      ]
    },
    {
      "cell_type": "code",
      "execution_count": null,
      "metadata": {
        "id": "Xn28QXDhHEL_"
      },
      "outputs": [],
      "source": [
        "#loading best model\n",
        "generator = keras.models.load_model('/content/drive/ss/output-50000/face_generator-50000.h5')"
      ]
    },
    {
      "cell_type": "markdown",
      "metadata": {
        "id": "boH-RvYeP9h3"
      },
      "source": [
        "**Check generator's working by plotting a generated image**"
      ]
    },
    {
      "cell_type": "code",
      "execution_count": null,
      "metadata": {
        "id": "Ve5TDxkaJKJx"
      },
      "outputs": [],
      "source": [
        "noise = tf.random.normal([1, SEED_SIZE])\n",
        "generated_image = generator(noise, training=False)\n",
        "generated_image = 0.5 * generated_image + 0.5\n",
        "plt.imshow(generated_image[0, :, :, :])"
      ]
    },
    {
      "cell_type": "code",
      "execution_count": null,
      "metadata": {
        "id": "WIf6KZc5Oiq5"
      },
      "outputs": [],
      "source": [
        "import numpy as np\n"
      ]
    },
    {
      "cell_type": "markdown",
      "metadata": {
        "id": "337ql8SsQGl5"
      },
      "source": [
        "**Define the directory where results folder will be made**"
      ]
    },
    {
      "cell_type": "code",
      "execution_count": null,
      "metadata": {
        "id": "tVDFw923OCog"
      },
      "outputs": [],
      "source": [
        "OUT_PATH_samples='/content/final'"
      ]
    },
    {
      "cell_type": "code",
      "execution_count": null,
      "metadata": {
        "id": "1IXnsaAMOHub"
      },
      "outputs": [],
      "source": [
        "output_samples_path = os.path.join(OUT_PATH_samples,f\"results\")"
      ]
    },
    {
      "cell_type": "markdown",
      "metadata": {
        "id": "kzKFvnQ6QUfM"
      },
      "source": [
        "**Make results folder in OUT_PATH_SAMPLES**"
      ]
    },
    {
      "cell_type": "code",
      "execution_count": null,
      "metadata": {
        "id": "lOHJxCCeOLGD"
      },
      "outputs": [],
      "source": [
        "!mkdir '/content/final/results'"
      ]
    },
    {
      "cell_type": "markdown",
      "metadata": {
        "id": "XBcklNYyQdrs"
      },
      "source": [
        "**Below cell saves 500 synthetically generated images to the output_samples_path.**"
      ]
    },
    {
      "cell_type": "code",
      "execution_count": null,
      "metadata": {
        "id": "PlmIVIp1OOp-"
      },
      "outputs": [],
      "source": [
        "x=500 # no of samples to be generated\n",
        "for i in range(x):\n",
        "  noise = tf.random.normal([1, SEED_SIZE])\n",
        "  generated_image = generator(noise, training=False)\n",
        "  generated_image = 0.5 * generated_image + 0.5\n",
        "  generated_image=generated_image[0, :, :, :]\n",
        "  filename = os.path.join(output_samples_path,f\"Ajwa-{i}.png\")\n",
        "  generated_image=np.asarray(generated_image)\n",
        "  im = Image.fromarray((generated_image * 255).astype(np.uint8))\n",
        "  im.save(filename)\n"
      ]
    }
  ],
  "metadata": {
    "accelerator": "GPU",
    "colab": {
      "provenance": []
    },
    "kernelspec": {
      "display_name": "Python 3",
      "language": "python",
      "name": "python3"
    },
    "language_info": {
      "codemirror_mode": {
        "name": "ipython",
        "version": 3
      },
      "file_extension": ".py",
      "mimetype": "text/x-python",
      "name": "python",
      "nbconvert_exporter": "python",
      "pygments_lexer": "ipython3",
      "version": "3.7.4"
    }
  },
  "nbformat": 4,
  "nbformat_minor": 0
}